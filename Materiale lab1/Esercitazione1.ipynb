{
 "cells": [
  {
   "cell_type": "markdown",
   "metadata": {},
   "source": [
    "# 1 Machine precision\n",
    "Exercize 1.1\n",
    "Machine epsilon or machine precision is an upper bound on the relative approximation error due to rounding in floating point aritmetic."
   ]
  },
  {
   "cell_type": "code",
   "execution_count": 3,
   "metadata": {},
   "outputs": [
    {
     "name": "stdout",
     "output_type": "stream",
     "text": [
      "Help on float_info object:\n",
      "\n",
      "class float_info(builtins.tuple)\n",
      " |  float_info(iterable=(), /)\n",
      " |  \n",
      " |  sys.float_info\n",
      " |  \n",
      " |  A named tuple holding information about the float type. It contains low level\n",
      " |  information about the precision and internal representation. Please study\n",
      " |  your system's :file:`float.h` for more information.\n",
      " |  \n",
      " |  Method resolution order:\n",
      " |      float_info\n",
      " |      builtins.tuple\n",
      " |      builtins.object\n",
      " |  \n",
      " |  Methods defined here:\n",
      " |  \n",
      " |  __reduce__(...)\n",
      " |      Helper for pickle.\n",
      " |  \n",
      " |  __repr__(self, /)\n",
      " |      Return repr(self).\n",
      " |  \n",
      " |  ----------------------------------------------------------------------\n",
      " |  Static methods defined here:\n",
      " |  \n",
      " |  __new__(*args, **kwargs) from builtins.type\n",
      " |      Create and return a new object.  See help(type) for accurate signature.\n",
      " |  \n",
      " |  ----------------------------------------------------------------------\n",
      " |  Data descriptors defined here:\n",
      " |  \n",
      " |  dig\n",
      " |      DBL_DIG -- digits\n",
      " |  \n",
      " |  epsilon\n",
      " |      DBL_EPSILON -- Difference between 1 and the next representable float\n",
      " |  \n",
      " |  mant_dig\n",
      " |      DBL_MANT_DIG -- mantissa digits\n",
      " |  \n",
      " |  max\n",
      " |      DBL_MAX -- maximum representable finite float\n",
      " |  \n",
      " |  max_10_exp\n",
      " |      DBL_MAX_10_EXP -- maximum int e such that 10**e is representable\n",
      " |  \n",
      " |  max_exp\n",
      " |      DBL_MAX_EXP -- maximum int e such that radix**(e-1) is representable\n",
      " |  \n",
      " |  min\n",
      " |      DBL_MIN -- Minimum positive normalized float\n",
      " |  \n",
      " |  min_10_exp\n",
      " |      DBL_MIN_10_EXP -- minimum int e such that 10**e is a normalized\n",
      " |  \n",
      " |  min_exp\n",
      " |      DBL_MIN_EXP -- minimum int e such that radix**(e-1) is a normalized float\n",
      " |  \n",
      " |  radix\n",
      " |      FLT_RADIX -- radix of exponent\n",
      " |  \n",
      " |  rounds\n",
      " |      FLT_ROUNDS -- rounding mode\n",
      " |  \n",
      " |  ----------------------------------------------------------------------\n",
      " |  Data and other attributes defined here:\n",
      " |  \n",
      " |  n_fields = 11\n",
      " |  \n",
      " |  n_sequence_fields = 11\n",
      " |  \n",
      " |  n_unnamed_fields = 0\n",
      " |  \n",
      " |  ----------------------------------------------------------------------\n",
      " |  Methods inherited from builtins.tuple:\n",
      " |  \n",
      " |  __add__(self, value, /)\n",
      " |      Return self+value.\n",
      " |  \n",
      " |  __contains__(self, key, /)\n",
      " |      Return key in self.\n",
      " |  \n",
      " |  __eq__(self, value, /)\n",
      " |      Return self==value.\n",
      " |  \n",
      " |  __ge__(self, value, /)\n",
      " |      Return self>=value.\n",
      " |  \n",
      " |  __getattribute__(self, name, /)\n",
      " |      Return getattr(self, name).\n",
      " |  \n",
      " |  __getitem__(self, key, /)\n",
      " |      Return self[key].\n",
      " |  \n",
      " |  __getnewargs__(self, /)\n",
      " |  \n",
      " |  __gt__(self, value, /)\n",
      " |      Return self>value.\n",
      " |  \n",
      " |  __hash__(self, /)\n",
      " |      Return hash(self).\n",
      " |  \n",
      " |  __iter__(self, /)\n",
      " |      Implement iter(self).\n",
      " |  \n",
      " |  __le__(self, value, /)\n",
      " |      Return self<=value.\n",
      " |  \n",
      " |  __len__(self, /)\n",
      " |      Return len(self).\n",
      " |  \n",
      " |  __lt__(self, value, /)\n",
      " |      Return self<value.\n",
      " |  \n",
      " |  __mul__(self, value, /)\n",
      " |      Return self*value.\n",
      " |  \n",
      " |  __ne__(self, value, /)\n",
      " |      Return self!=value.\n",
      " |  \n",
      " |  __rmul__(self, value, /)\n",
      " |      Return value*self.\n",
      " |  \n",
      " |  count(self, value, /)\n",
      " |      Return number of occurrences of value.\n",
      " |  \n",
      " |  index(self, value, start=0, stop=9223372036854775807, /)\n",
      " |      Return first index of value.\n",
      " |      \n",
      " |      Raises ValueError if the value is not present.\n",
      " |  \n",
      " |  ----------------------------------------------------------------------\n",
      " |  Class methods inherited from builtins.tuple:\n",
      " |  \n",
      " |  __class_getitem__(...) from builtins.type\n",
      " |      See PEP 585\n",
      "\n",
      "sys.float_info(max=1.7976931348623157e+308, max_exp=1024, max_10_exp=308, min=2.2250738585072014e-308, min_exp=-1021, min_10_exp=-307, dig=15, mant_dig=53, epsilon=2.220446049250313e-16, radix=2, rounds=1)\n"
     ]
    }
   ],
   "source": [
    "import sys\n",
    "help(sys.float_info)\n",
    "print(sys.float_info)"
   ]
  },
  {
   "cell_type": "markdown",
   "metadata": {},
   "source": [
    "understand the meaning of `max`, `max_exp` and `max_10_exp`\n",
    "\n",
    "- `max` -> maximum representable finite float\n",
    "  - `max=1.7976931348623157e+308`\n",
    "- `max_exp` -> maximum int e such that radix**(e-1) is representable\n",
    "  - `max_exp=1024`\n",
    "- `max_10_exp` -> maximum int e such that 10**e is representable\n",
    "  - `max_10_exp=308`"
   ]
  },
  {
   "cell_type": "markdown",
   "metadata": {},
   "source": [
    "Write a code to compute the machine precision ϵ in (float) default precision with a `while` construct\n",
    "Compute also the mantissa digit number."
   ]
  },
  {
   "cell_type": "code",
   "execution_count": 12,
   "metadata": {},
   "outputs": [
    {
     "name": "stdout",
     "output_type": "stream",
     "text": [
      "Machine epsilon (float):\t 2.220446049250313e-16\n",
      "Number of mantissa digits:\t 53\n"
     ]
    }
   ],
   "source": [
    "eps = 1.0\n",
    "\n",
    "while (1.0 + eps / 2.0) > 1.0:\n",
    "    eps = eps  / 2.0\n",
    "\n",
    "mantissa_digits = len(bin(int(1 / eps))) - 2\n",
    "\n",
    "print(\"Machine epsilon (float):\\t\", eps)\n",
    "print(\"Number of mantissa digits:\\t\", mantissa_digits)\n"
   ]
  },
  {
   "cell_type": "markdown",
   "metadata": {},
   "source": [
    "Use NumPy and expolit the functions `float16` and `float31` in the while statement and see the differences. Check the result of `np.finfo(float).eps`"
   ]
  },
  {
   "cell_type": "code",
   "execution_count": 18,
   "metadata": {},
   "outputs": [
    {
     "name": "stdout",
     "output_type": "stream",
     "text": [
      "Machine epsilon (float16): 0.000977\n",
      "Machine epsilon (float31): 1.1920929e-07\n"
     ]
    }
   ],
   "source": [
    "import numpy as np\n",
    "\n",
    "eps_float16 = np.finfo(np.float16).eps\n",
    "eps_float31 = np.finfo(np.float32).eps\n",
    "\n",
    "print(\"Machine epsilon (float16):\", eps_float16)\n",
    "print(\"Machine epsilon (float31):\", eps_float31)"
   ]
  },
  {
   "cell_type": "markdown",
   "metadata": {},
   "source": [
    "----\n",
    "# 2 Plot of a function\n",
    "#### Exercize 2.1\n",
    "Matplotlib is a plotting library fot the Python programming language and ist numerical mathematics extension NumPy. Create a figure combining together the cosine and sine curves, on the domani [0, 10]:\n",
    "- add a legend\n",
    "- add a title\n",
    "- change the default colors"
   ]
  },
  {
   "cell_type": "code",
   "execution_count": 49,
   "metadata": {},
   "outputs": [
    {
     "data": {
      "image/png": "[encoded data removed]",
      "text/plain": [
       "<Figure size 1296x576 with 1 Axes>"
      ]
     },
     "metadata": {
      "needs_background": "light"
     },
     "output_type": "display_data"
    }
   ],
   "source": [
    "import matplotlib.pyplot as plt\n",
    "import numpy as np\n",
    "\n",
    "# Create data points for the domain [0, 10]\n",
    "x = np.linspace(0, 10, 100)  # 100 points from 0 to 10\n",
    "cosine = np.cos(x)\n",
    "sine = np.sin(x)\n",
    "\n",
    "\n",
    "# Create the figure and plot the curves\n",
    "plt.figure(figsize=(18, 8))                           # Adjust the figure size as needed\n",
    "plt.plot(x, cosine, label='Cosine', color='blue')    # Customize the color for the cosine curve\n",
    "plt.plot(x, sine, label='Sine', color='red')         # Customize the color for the sine curve\n",
    "\n",
    "# Add a horizontal line at y=0 (the x-axis)\n",
    "plt.axhline(0, color='black', linewidth=0.5, linestyle='-')\n",
    "\n",
    "# Add legend and title\n",
    "plt.legend()\n",
    "plt.title('Cosine and Sine Curves')\n",
    "\n",
    "# Customize the x-axis labels\n",
    "plt.xticks(np.arange(0, 11, 1))  # Set ticks at integer positions from 0 to 10\n",
    "\n",
    "# Display the plot\n",
    "plt.show()"
   ]
  },
  {
   "cell_type": "markdown",
   "metadata": {},
   "source": [
    "#### Exercise 2.2\n",
    "The Fibonacci sequence is a sequence wich each number is the sum of the two preceding ones and it is formally defined as:\n",
    "    $$\\begin{cases} \n",
    "    F_1=F_2=1 & \\\\ F_n =F_{n-1}+F_{n-2} & n>2\n",
    "    \\end{cases}$$\n",
    "- Write a script that, given an input number $n$, computes the number $F_n$ of the Fibonacci sequence"
   ]
  },
  {
   "cell_type": "code",
   "execution_count": 31,
   "metadata": {},
   "outputs": [],
   "source": [
    "def fibonacci(n):\n",
    "    if n <= 0:\n",
    "        return 0\n",
    "    elif n == 1:\n",
    "        return 1\n",
    "    else:\n",
    "        a, b = 0, 1\n",
    "        for _ in range(2, n + 1):\n",
    "            a, b = b, a + b\n",
    "        return b"
   ]
  },
  {
   "cell_type": "code",
   "execution_count": 41,
   "metadata": {},
   "outputs": [
    {
     "data": {
      "text/plain": [
       "55"
      ]
     },
     "execution_count": 41,
     "metadata": {},
     "output_type": "execute_result"
    }
   ],
   "source": [
    "fibonacci(10)"
   ]
  },
  {
   "cell_type": "markdown",
   "metadata": {},
   "source": [
    "- Write a code computing, for a natural number $k$ the ratio $r_k=\\frac{F_{k+1}}{F_k}$, where $F_k$ are the Fibonacci numbers."
   ]
  },
  {
   "cell_type": "code",
   "execution_count": 32,
   "metadata": {},
   "outputs": [],
   "source": [
    "def fibonacci_ratio(k):\n",
    "    if k <= 0:\n",
    "        return 0\n",
    "    Fk = fibonacci(k)\n",
    "    Fk_plus_1 = fibonacci(k + 1)\n",
    "    return Fk_plus_1 / Fk"
   ]
  },
  {
   "cell_type": "code",
   "execution_count": 47,
   "metadata": {},
   "outputs": [
    {
     "name": "stdout",
     "output_type": "stream",
     "text": [
      "1.618033988749895\n",
      "1.6181818181818182\n"
     ]
    }
   ],
   "source": [
    "print(fibonacci_ratio(10000))\n",
    "print(fibonacci_ratio(10))"
   ]
  },
  {
   "cell_type": "code",
   "execution_count": 33,
   "metadata": {},
   "outputs": [],
   "source": [
    "import math\n",
    "\n",
    "k_values = list(range(1, 100))\n",
    "ratios = [fibonacci_ratio(k) for k in k_values]\n",
    "\n",
    "phi = (1 + math.sqrt(5)) / 2\n",
    "\n",
    "# Calculate the error with respect to φ\n",
    "errors = [abs(r - phi) for r in ratios]"
   ]
  },
  {
   "cell_type": "code",
   "execution_count": 34,
   "metadata": {},
   "outputs": [
    {
     "data": {
      "image/png": "[encoded data removed]",
      "text/plain": [
       "<Figure size 432x288 with 1 Axes>"
      ]
     },
     "metadata": {
      "needs_background": "light"
     },
     "output_type": "display_data"
    }
   ],
   "source": [
    "import matplotlib.pyplot as plt\n",
    "\n",
    "plt.plot(k_values, errors)\n",
    "plt.xlabel('k')\n",
    "plt.ylabel('Error with respect to φ')\n",
    "plt.title('Convergence to the Golden Ratio φ')\n",
    "plt.grid()\n",
    "plt.show()"
   ]
  }
 ],
 "metadata": {
  "kernelspec": {
   "display_name": "base",
   "language": "python",
   "name": "python3"
  },
  "language_info": {
   "codemirror_mode": {
    "name": "ipython",
    "version": 3
   },
   "file_extension": ".py",
   "mimetype": "text/x-python",
   "name": "python",
   "nbconvert_exporter": "python",
   "pygments_lexer": "ipython3",
   "version": "3.9.12"
  }
 },
 "nbformat": 4,
 "nbformat_minor": 2
}
