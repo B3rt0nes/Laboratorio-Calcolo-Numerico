{
 "cells": [
  {
   "cell_type": "markdown",
   "metadata": {},
   "source": [
    "# Calcolo Numerico - Esercitazione 3"
   ]
  },
  {
   "cell_type": "markdown",
   "metadata": {},
   "source": [
    "## 1. Compressione immagini SVD\n",
    "- La funzione `scipy.linalg.svd` permette di calcolare la decomposizione SVD di una matrice.\n",
    "- La liberia `skimage` permette di caricare/salvare immagini"
   ]
  },
  {
   "cell_type": "markdown",
   "metadata": {},
   "source": [
    "#### Exercise 1.1 \n",
    "Utilizzando la libreria `skimage`, nello specifico il modulo `data`, carucare e visualizzare un immagine $A$ (diversa dal cameraman) in scala di grigio di dimensione $m\\times n$.\n",
    "1. Calcolare la matrice $$A_p=\\sum_{i=1}^p u_i\\cdot v_i^T\\cdot \\sigma_i$$\n",
    "dove $p\\le rango(A)$\n",
    "2. Visualizzare l'immagine $A_p$\n",
    "3. Calcolare l'errore relativo: $$\\frac{∥A − Ap∥_2}{∥A∥_2}$$\n",
    "4. Calcolare il fattore di compressione $$c_p=\\frac{1}{p}\\min(m,n)-1$$\n",
    "5. Calcolare e plottare l'errore relativo e il fattore di compressione al variare di p"
   ]
  }
 ],
 "metadata": {
  "language_info": {
   "name": "python"
  }
 },
 "nbformat": 4,
 "nbformat_minor": 2
}
