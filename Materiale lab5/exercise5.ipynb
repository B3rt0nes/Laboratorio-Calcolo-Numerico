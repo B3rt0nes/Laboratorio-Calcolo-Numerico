{
 "cells": [
  {
   "cell_type": "markdown",
   "metadata": {},
   "source": [
    "# Calcolo numerico - Esercitazione 5"
   ]
  },
  {
   "cell_type": "markdown",
   "metadata": {},
   "source": [
    "## 1. Calcolo zero funzione\n",
    "Scrivere una `function` che implementi il metodo delle approssimazioni successive per il calcolo dello zero di una funzione $f(x)$ prendendo come input una delle seguenti funzioni per l'aggiornamnto:\n",
    "* $g(x)=x-f(x)e^{x/2}$\n",
    "* $g(x)=x-f(x)e^{-x/2}$\n",
    "Testare la `function` per trovare lo zero della funzione $f(x)=e^x-x^2$, la cui soluzione è $x^*=-0.703467$."
   ]
  },
  {
   "cell_type": "code",
   "execution_count": null,
   "metadata": {
    "vscode": {
     "languageId": "plaintext"
    }
   },
   "outputs": [],
   "source": []
  }
 ],
 "metadata": {
  "language_info": {
   "name": "python"
  }
 },
 "nbformat": 4,
 "nbformat_minor": 2
}
