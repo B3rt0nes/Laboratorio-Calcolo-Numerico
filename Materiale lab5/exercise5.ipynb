{
 "cells": [
  {
   "cell_type": "markdown",
   "metadata": {},
   "source": [
    "# Calcolo numerico - Esercitazione 5"
   ]
  },
  {
   "cell_type": "markdown",
   "metadata": {},
   "source": [
    "## 1. Calcolo zero funzione\n",
    "Scrivere una `function` che implementi il metodo delle approssimazioni successive per il calcolo dello zero di una funzione $f(x)$ prendendo come input una delle seguenti funzioni per l'aggiornamnto:\n",
    "* $g(x)=x-f(x)e^{x/2}$\n",
    "* $g(x)=x-f(x)e^{-x/2}$\n",
    "Testare la `function` per trovare lo zero della funzione $f(x)=e^x-x^2$, la cui soluzione è $x^*=-0.703467$."
   ]
  },
  {
   "cell_type": "code",
   "execution_count": null,
   "metadata": {},
   "outputs": [],
   "source": []
  },
  {
   "cell_type": "code",
   "execution_count": 5,
   "metadata": {},
   "outputs": [
    {
     "name": "stdout",
     "output_type": "stream",
     "text": [
      "fTrue =  8.035078391532835e-07\n",
      "Metodo approssimazioni successive g1 \n",
      " x = -0.7034674224983917 \n",
      " iter_new= 100\n"
     ]
    },
    {
     "ename": "IndexError",
     "evalue": "index 101 is out of bounds for axis 0 with size 101",
     "output_type": "error",
     "traceback": [
      "\u001b[1;31m---------------------------------------------------------------------------\u001b[0m",
      "\u001b[1;31mIndexError\u001b[0m                                Traceback (most recent call last)",
      "\u001b[1;32mc:\\Users\\Proprietario\\Documents\\UNI\\2\\06CFU - Calcolo Numerico\\Laboratorio-Calcolo-Numerico\\Materiale lab5\\exercise5.ipynb Cell 4\u001b[0m line \u001b[0;36m5\n\u001b[0;32m     <a href='vscode-notebook-cell:/c%3A/Users/Proprietario/Documents/UNI/2/06CFU%20-%20Calcolo%20Numerico/Laboratorio-Calcolo-Numerico/Materiale%20lab5/exercise5.ipynb#W3sZmlsZQ%3D%3D?line=50'>51</a>\u001b[0m \u001b[39mprint\u001b[39m(\u001b[39m'\u001b[39m\u001b[39mMetodo approssimazioni successive g1 \u001b[39m\u001b[39m\\n\u001b[39;00m\u001b[39m x =\u001b[39m\u001b[39m'\u001b[39m,sol_g1,\u001b[39m'\u001b[39m\u001b[39m\\n\u001b[39;00m\u001b[39m iter_new=\u001b[39m\u001b[39m'\u001b[39m, iter_g1)\n\u001b[0;32m     <a href='vscode-notebook-cell:/c%3A/Users/Proprietario/Documents/UNI/2/06CFU%20-%20Calcolo%20Numerico/Laboratorio-Calcolo-Numerico/Materiale%20lab5/exercise5.ipynb#W3sZmlsZQ%3D%3D?line=52'>53</a>\u001b[0m plt\u001b[39m.\u001b[39mplot(sol_g1,f(sol_g1), \u001b[39m'\u001b[39m\u001b[39mo\u001b[39m\u001b[39m'\u001b[39m, label\u001b[39m=\u001b[39m\u001b[39m'\u001b[39m\u001b[39mg1\u001b[39m\u001b[39m'\u001b[39m)\n\u001b[1;32m---> <a href='vscode-notebook-cell:/c%3A/Users/Proprietario/Documents/UNI/2/06CFU%20-%20Calcolo%20Numerico/Laboratorio-Calcolo-Numerico/Materiale%20lab5/exercise5.ipynb#W3sZmlsZQ%3D%3D?line=54'>55</a>\u001b[0m [sol_g2, iter_g2, err_g2, vecErrore_g2]\u001b[39m=\u001b[39msucc_app(f, g2, tolf, tolx, maxit, xTrue, x0)\n\u001b[0;32m     <a href='vscode-notebook-cell:/c%3A/Users/Proprietario/Documents/UNI/2/06CFU%20-%20Calcolo%20Numerico/Laboratorio-Calcolo-Numerico/Materiale%20lab5/exercise5.ipynb#W3sZmlsZQ%3D%3D?line=55'>56</a>\u001b[0m \u001b[39mprint\u001b[39m(\u001b[39m'\u001b[39m\u001b[39mMetodo approssimazioni successive g2 \u001b[39m\u001b[39m\\n\u001b[39;00m\u001b[39m x =\u001b[39m\u001b[39m'\u001b[39m,sol_g2,\u001b[39m'\u001b[39m\u001b[39m\\n\u001b[39;00m\u001b[39m iter_new=\u001b[39m\u001b[39m'\u001b[39m, iter_g2)\n\u001b[0;32m     <a href='vscode-notebook-cell:/c%3A/Users/Proprietario/Documents/UNI/2/06CFU%20-%20Calcolo%20Numerico/Laboratorio-Calcolo-Numerico/Materiale%20lab5/exercise5.ipynb#W3sZmlsZQ%3D%3D?line=57'>58</a>\u001b[0m plt\u001b[39m.\u001b[39mplot(sol_g2,f(sol_g2), \u001b[39m'\u001b[39m\u001b[39mog\u001b[39m\u001b[39m'\u001b[39m, label\u001b[39m=\u001b[39m\u001b[39m'\u001b[39m\u001b[39mg2\u001b[39m\u001b[39m'\u001b[39m)\n",
      "\u001b[1;32mc:\\Users\\Proprietario\\Documents\\UNI\\2\\06CFU - Calcolo Numerico\\Laboratorio-Calcolo-Numerico\\Materiale lab5\\exercise5.ipynb Cell 4\u001b[0m line \u001b[0;36m1\n\u001b[0;32m     <a href='vscode-notebook-cell:/c%3A/Users/Proprietario/Documents/UNI/2/06CFU%20-%20Calcolo%20Numerico/Laboratorio-Calcolo-Numerico/Materiale%20lab5/exercise5.ipynb#W3sZmlsZQ%3D%3D?line=13'>14</a>\u001b[0m \u001b[39mwhile\u001b[39;00m (i\u001b[39m<\u001b[39mmaxit \u001b[39mor\u001b[39;00m (np\u001b[39m.\u001b[39mabs(f(x))\u001b[39m>\u001b[39mtolf) \u001b[39mor\u001b[39;00m err[i]\u001b[39m>\u001b[39mtolx): \u001b[39m# scarto assoluto tra iterati\u001b[39;00m\n\u001b[0;32m     <a href='vscode-notebook-cell:/c%3A/Users/Proprietario/Documents/UNI/2/06CFU%20-%20Calcolo%20Numerico/Laboratorio-Calcolo-Numerico/Materiale%20lab5/exercise5.ipynb#W3sZmlsZQ%3D%3D?line=14'>15</a>\u001b[0m   x_new\u001b[39m=\u001b[39m g(x)\n\u001b[1;32m---> <a href='vscode-notebook-cell:/c%3A/Users/Proprietario/Documents/UNI/2/06CFU%20-%20Calcolo%20Numerico/Laboratorio-Calcolo-Numerico/Materiale%20lab5/exercise5.ipynb#W3sZmlsZQ%3D%3D?line=15'>16</a>\u001b[0m   err[i\u001b[39m+\u001b[39m\u001b[39m1\u001b[39m]\u001b[39m=\u001b[39m np\u001b[39m.\u001b[39mabs(x_new \u001b[39m-\u001b[39m x)\n\u001b[0;32m     <a href='vscode-notebook-cell:/c%3A/Users/Proprietario/Documents/UNI/2/06CFU%20-%20Calcolo%20Numerico/Laboratorio-Calcolo-Numerico/Materiale%20lab5/exercise5.ipynb#W3sZmlsZQ%3D%3D?line=16'>17</a>\u001b[0m   vecErrore[i\u001b[39m+\u001b[39m\u001b[39m1\u001b[39m]\u001b[39m=\u001b[39m np\u001b[39m.\u001b[39mabs(xTrue \u001b[39m-\u001b[39m x_new)\n\u001b[0;32m     <a href='vscode-notebook-cell:/c%3A/Users/Proprietario/Documents/UNI/2/06CFU%20-%20Calcolo%20Numerico/Laboratorio-Calcolo-Numerico/Materiale%20lab5/exercise5.ipynb#W3sZmlsZQ%3D%3D?line=17'>18</a>\u001b[0m   i\u001b[39m=\u001b[39mi\u001b[39m+\u001b[39m\u001b[39m1\u001b[39m\n",
      "\u001b[1;31mIndexError\u001b[0m: index 101 is out of bounds for axis 0 with size 101"
     ]
    },
    {
     "data": {
      "image/png": "[encoded data removed]",
      "text/plain": [
       "<Figure size 640x480 with 1 Axes>"
      ]
     },
     "metadata": {},
     "output_type": "display_data"
    }
   ],
   "source": [
    "import numpy as np\n",
    "import matplotlib.pyplot as plt\n",
    "\n",
    "# Exercise 1\n",
    "# Function approssimazioni successive\n",
    "def succ_app(f, g, tolf, tolx, maxit, xTrue, x0=0):\n",
    "  i=0\n",
    "  err=np.zeros(maxit+1, dtype=np.float64)\n",
    "  err[0]=tolx+1\n",
    "  vecErrore=np.zeros(maxit+1, dtype=np.float64)\n",
    "  vecErrore[0] = np.abs(xTrue - x0)\n",
    "  x=x0\n",
    "\n",
    "  while (i<maxit or (np.abs(f(x))>tolf) or err[i]>tolx): # scarto assoluto tra iterati\n",
    "    x_new= g(x)\n",
    "    err[i+1]= np.abs(x_new - x)\n",
    "    vecErrore[i+1]= np.abs(xTrue - x_new)\n",
    "    i=i+1\n",
    "    x=x_new\n",
    "  err=err[0:i]\n",
    "  vecErrore = vecErrore[0:i]\n",
    "  return (x, i, err, vecErrore) \n",
    "\n",
    "def newton(f, df, tolf, tolx, maxit, xTrue, x0=0):\n",
    "    g = lambda x: x - f(x) / df(x)\n",
    "    (x, i, err, vecErrore) = succ_app(f, g, tolf, tolx, maxit, xTrue, x0)\n",
    "    return (x, i, err, vecErrore)\n",
    "\n",
    "f = lambda x: np.exp(x)-x**2\n",
    "df = lambda x: np.exp(x) - 2 * x\n",
    "g1 = lambda x: x-f(x)*np.exp(x/2)\n",
    "g2 = lambda x: x-f(x)*np.exp(-x/2)\n",
    "\n",
    "xTrue = -0.703467\n",
    "fTrue = f(xTrue)\n",
    "print('fTrue = ', fTrue)\n",
    "\n",
    "\n",
    "xplot = np.linspace(-1, 1)\n",
    "fplot = f(xplot)\n",
    "\n",
    "plt.plot(xplot,fplot)\n",
    "plt.plot(xTrue,fTrue, 'or', label='True')\n",
    "\n",
    "tolx= 10**(-10)\n",
    "tolf = 10**(-6)\n",
    "maxit=100\n",
    "x0= 0\n",
    "\n",
    "[sol_g1, iter_g1, err_g1, vecErrore_g1]=succ_app(f, g1, tolf, tolx, maxit, xTrue, x0)\n",
    "print('Metodo approssimazioni successive g1 \\n x =',sol_g1,'\\n iter_new=', iter_g1)\n",
    "\n",
    "plt.plot(sol_g1,f(sol_g1), 'o', label='g1')\n",
    "\n",
    "[sol_g2, iter_g2, err_g2, vecErrore_g2]=succ_app(f, g2, tolf, tolx, maxit, xTrue, x0)\n",
    "print('Metodo approssimazioni successive g2 \\n x =',sol_g2,'\\n iter_new=', iter_g2)\n",
    "\n",
    "plt.plot(sol_g2,f(sol_g2), 'og', label='g2')\n",
    "\n",
    "[sol_newton, iter_newton, err_newton, vecErrore_newton]=newton(f, df, tolf, tolx, maxit, xTrue, x0)\n",
    "print('Metodo Newton \\n x =',sol_newton,'\\n iter_new=', iter_newton)\n",
    "\n",
    "plt.plot(sol_newton,f(sol_newton), 'ob', label='Newton')\n",
    "plt.legend()\n",
    "plt.grid()\n",
    "plt.show()\n",
    "\n",
    "# GRAFICO Errore vs Iterazioni\n",
    "\n",
    "# g1\n",
    "plt.plot(vecErrore_g1, '.-', color='blue')\n",
    "# g2\n",
    "plt.plot(vecErrore_g2[:20], '.-', color='green')\n",
    "# Newton\n",
    "plt.plot(vecErrore_newton, '.-', color='red')\n",
    "\n",
    "plt.legend( (\"g1\", \"g2\", \"newton\"))\n",
    "plt.xlabel('iter')\n",
    "plt.ylabel('errore')\n",
    "plt.title('Errore vs Iterazioni')\n",
    "plt.grid()\n",
    "plt.show()"
   ]
  },
  {
   "cell_type": "code",
   "execution_count": null,
   "metadata": {},
   "outputs": [],
   "source": []
  }
 ],
 "metadata": {
  "kernelspec": {
   "display_name": "base",
   "language": "python",
   "name": "python3"
  },
  "language_info": {
   "codemirror_mode": {
    "name": "ipython",
    "version": 3
   },
   "file_extension": ".py",
   "mimetype": "text/x-python",
   "name": "python",
   "nbconvert_exporter": "python",
   "pygments_lexer": "ipython3",
   "version": "3.9.18"
  }
 },
 "nbformat": 4,
 "nbformat_minor": 2
}
