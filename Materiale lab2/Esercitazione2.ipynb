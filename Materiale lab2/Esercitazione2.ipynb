{
 "cells": [
  {
   "cell_type": "markdown",
   "metadata": {},
   "source": [
    "## Matrici e norme\n",
    "#### Exercise 1.1."
   ]
  },
  {
   "cell_type": "markdown",
   "metadata": {},
   "source": [
    "Si consideri la matrice $A$\n",
    "$$A=\\begin{pmatrix} 1 & 2 \\\\ 0.499 & 1.001 \\end{pmatrix}$$\n",
    "- Calcolare con `numpy.linalg.norm()`\n",
    "  - norma 1\n",
    "  - norma 2\n",
    "  - norma di Frobenius\n",
    "  - norma di infinito di A"
   ]
  },
  {
   "cell_type": "code",
   "execution_count": 5,
   "metadata": {},
   "outputs": [
    {
     "name": "stdout",
     "output_type": "stream",
     "text": [
      "Norma 1 di A:\t\t 3.001\n",
      "Norma 2 di A:\t\t 2.500200104037774\n",
      "Norma Frobenius di A:\t 2.5002003919686118\n",
      "Norma infinito di A:\t 3.0\n"
     ]
    }
   ],
   "source": [
    "import numpy as np\n",
    "\n",
    "# Definire la matrice A\n",
    "A = np.array([[1, 2],\n",
    "              [0.499, 1.001]])\n",
    "\n",
    "# Calcolare la norma 1 di A\n",
    "norma1 = np.linalg.norm(A, 1)\n",
    "\n",
    "# Calcolare la norma 2 di A\n",
    "norma2 = np.linalg.norm(A, 2)\n",
    "\n",
    "# Calcolare la norma Frobenius di A\n",
    "norma_frobenius = np.linalg.norm(A, 'fro')\n",
    "\n",
    "# Calcolare la norma infinito di A\n",
    "norma_infinito = np.linalg.norm(A, np.inf)\n",
    "\n",
    "# Stampare i risultati\n",
    "print(\"Norma 1 di A:\\t\\t\", norma1)\n",
    "print(\"Norma 2 di A:\\t\\t\", norma2)\n",
    "print(\"Norma Frobenius di A:\\t\", norma_frobenius)\n",
    "print(\"Norma infinito di A:\\t\", norma_infinito)"
   ]
  },
  {
   "cell_type": "markdown",
   "metadata": {},
   "source": [
    "- Calcolare il numero di condizionamento id $A$ con `numpy.linalg.cond()`"
   ]
  },
  {
   "cell_type": "code",
   "execution_count": 7,
   "metadata": {},
   "outputs": [
    {
     "name": "stdout",
     "output_type": "stream",
     "text": [
      "Numero di cond. di A:\t 2083.6668534103555\n"
     ]
    }
   ],
   "source": [
    "cond1 = np.linalg.cond(A, p=1)\n",
    "cond2 = np.linalg.cond(A, p=2)\n",
    "condfro = np.linalg.cond(A, p='fro')\n",
    "condinf = np.linalg.cond(A, p=np.inf)\n",
    "\n",
    "print ('K(A)_1 \\t\\t\\t\\t\\t =', cond1)\n",
    "print ('K(A)_2 \\t\\t\\t\\t\\t =', cond2)\n",
    "print ('K(A)_fro \\t\\t\\t\\t =', condfro)\n",
    "print ('K(A)_inf \\t\\t\\t\\t =', condinf)"
   ]
  },
  {
   "cell_type": "markdown",
   "metadata": {},
   "source": [
    "- Considerare il vettore colonna $x = (1, 1)^T$ e calcolare il corrispondente termine noto $b$ per il sistema lineare $Ax = b$."
   ]
  },
  {
   "cell_type": "code",
   "execution_count": 9,
   "metadata": {},
   "outputs": [
    {
     "name": "stdout",
     "output_type": "stream",
     "text": [
      "Termine noto b: [3.  1.5]\n"
     ]
    }
   ],
   "source": [
    "# Definire il vettore colonna x\n",
    "x = np.ones((2,1))\n",
    "\n",
    "# Calcolare il termine noto b\n",
    "b = np.dot(A, x)\n",
    "\n",
    "# Stampare il risultato\n",
    "print(\"Termine noto b:\", b)"
   ]
  },
  {
   "cell_type": "markdown",
   "metadata": {},
   "source": [
    "Considerare ora il vettore $\\tilde{b} = (3, 1.4985)^T$ e verifica che $\\tilde{x} = (2, 0.5)^T$ è soluzione del sistema $A\\tilde{x} =\\tilde{b}$"
   ]
  },
  {
   "cell_type": "code",
   "execution_count": 11,
   "metadata": {},
   "outputs": [
    {
     "name": "stdout",
     "output_type": "stream",
     "text": [
      "Il vettore ~x è una soluzione del sistema A~x = ~b.\n"
     ]
    }
   ],
   "source": [
    "# Definire il vettore colonna ˜x\n",
    "x_tilde = np.array([2, 0.5])\n",
    "\n",
    "# Definire il vettore colonna ˜b\n",
    "b_tilde = np.array([3, 1.4985])\n",
    "\n",
    "# Calcolare A˜x\n",
    "Ax_tilde = np.dot(A, x_tilde)\n",
    "\n",
    "# Verificare se A˜x è uguale a ˜b\n",
    "if np.array_equal(Ax_tilde, b_tilde):\n",
    "    print(\"Il vettore ~x è una soluzione del sistema A~x = ~b.\")\n",
    "else:\n",
    "    print(\"Il vettore ~x non è una soluzione del sistema A~x = ~b.\")"
   ]
  },
  {
   "cell_type": "markdown",
   "metadata": {},
   "source": [
    "Calcolare la norma $2$ della perturbazione sui termini noti $\\Delta_b = ∥b−\\tilde{b}∥_2$ e la norma $2$ della perturbazione sulle soluzioni $\\Delta_x = ∥x − \\tilde{x}∥_2$. Confrontare $\\Delta_b$ con $\\Delta_x$."
   ]
  },
  {
   "cell_type": "markdown",
   "metadata": {},
   "source": [
    "## Metodi diretti\n",
    "#### Exercise 2.1"
   ]
  },
  {
   "cell_type": "markdown",
   "metadata": {},
   "source": [
    "Si consideri la matrice\n",
    "$$A=\\begin{pmatrix}3& -1 & 1 & -2 \\\\ 0 & 2 & 5 & -1 \\\\ 1 & 0 & -7 & 1 \\\\ 0 & 2 & 1 & 1\\end{pmatrix}$$"
   ]
  },
  {
   "cell_type": "code",
   "execution_count": 103,
   "metadata": {},
   "outputs": [
    {
     "name": "stdout",
     "output_type": "stream",
     "text": [
      "[[ 5.]\n",
      " [ 6.]\n",
      " [-5.]\n",
      " [ 4.]]\n"
     ]
    }
   ],
   "source": [
    "import numpy as np\n",
    "\n",
    "# Definisci la matrice A\n",
    "A = np.array([[3, -1, 1, 2],\n",
    "              [0, 2, 5, -1],\n",
    "              [1, 0, -7, 1],\n",
    "              [0, 2, 1, 1]])\n",
    "\n",
    "n = A.shape[1]\n",
    "\n",
    "x = np.ones((n,1))\n",
    "b = np.matmul(A,x) # b = Ax\n",
    "print(b)"
   ]
  },
  {
   "cell_type": "code",
   "execution_count": 69,
   "metadata": {},
   "outputs": [
    {
     "name": "stdout",
     "output_type": "stream",
     "text": [
      "Help on function lu_solve in module scipy.linalg.decomp_lu:\n",
      "\n",
      "lu_solve(lu_and_piv, b, trans=0, overwrite_b=False, check_finite=True)\n",
      "    Solve an equation system, a x = b, given the LU factorization of a\n",
      "    \n",
      "    Parameters\n",
      "    ----------\n",
      "    (lu, piv)\n",
      "        Factorization of the coefficient matrix a, as given by lu_factor\n",
      "    b : array\n",
      "        Right-hand side\n",
      "    trans : {0, 1, 2}, optional\n",
      "        Type of system to solve:\n",
      "    \n",
      "        =====  =========\n",
      "        trans  system\n",
      "        =====  =========\n",
      "        0      a x   = b\n",
      "        1      a^T x = b\n",
      "        2      a^H x = b\n",
      "        =====  =========\n",
      "    overwrite_b : bool, optional\n",
      "        Whether to overwrite data in b (may increase performance)\n",
      "    check_finite : bool, optional\n",
      "        Whether to check that the input matrices contain only finite numbers.\n",
      "        Disabling may give a performance gain, but may result in problems\n",
      "        (crashes, non-termination) if the inputs do contain infinities or NaNs.\n",
      "    \n",
      "    Returns\n",
      "    -------\n",
      "    x : array\n",
      "        Solution to the system\n",
      "    \n",
      "    See also\n",
      "    --------\n",
      "    lu_factor : LU factorize a matrix\n",
      "    \n",
      "    Examples\n",
      "    --------\n",
      "    >>> from scipy.linalg import lu_factor, lu_solve\n",
      "    >>> A = np.array([[2, 5, 8, 7], [5, 2, 2, 8], [7, 5, 6, 6], [5, 4, 4, 8]])\n",
      "    >>> b = np.array([1, 1, 1, 1])\n",
      "    >>> lu, piv = lu_factor(A)\n",
      "    >>> x = lu_solve((lu, piv), b)\n",
      "    >>> np.allclose(A @ x - b, np.zeros((4,)))\n",
      "    True\n",
      "\n"
     ]
    }
   ],
   "source": [
    "import scipy.linalg\n",
    "# help(scipy.linalg)\n",
    "import scipy.linalg as LUdec # è un module con ['lu', 'lu_solve', 'lu_factor']\n",
    "# help(LUdec.lu_factor)\n",
    "# help(LUdec.lu)"
   ]
  },
  {
   "cell_type": "code",
   "execution_count": 98,
   "metadata": {},
   "outputs": [
    {
     "name": "stdout",
     "output_type": "stream",
     "text": [
      "La fattorizzazione LU è corretta.\n"
     ]
    }
   ],
   "source": [
    "P, L, U = LUdec.lu(A)\n",
    "\n",
    "# Stampa le matrici P, L e U\n",
    "# print(\"Matrice P:\")\n",
    "# print(P)\n",
    "# print(\"Matrice L:\")\n",
    "# print(L)\n",
    "# print(\"Matrice U:\")\n",
    "# print(U)\n",
    "# print('piv', piv, '\\n')\n",
    "\n",
    "# Verifica la correttezza dell'output\n",
    "# Moltiplica le matrici P, L e U e verifica se il risultato è uguale alla matrice originale A\n",
    "A_reconstructed = np.dot(P, np.dot(L, U))\n",
    "\n",
    "# Confronta A_reconstructed con A\n",
    "if np.array_equal(A_reconstructed, A):\n",
    "    print(\"La fattorizzazione LU è corretta.\")\n",
    "else:\n",
    "    print(\"La fattorizzazione LU non è corretta.\")"
   ]
  },
  {
   "cell_type": "markdown",
   "metadata": {},
   "source": [
    "Risolvere il sistema lineare con la funzione `scipy.linalg.lu_solve` oppure urilizzando la funzione `scipy.linalg.solve_triangular`."
   ]
  },
  {
   "cell_type": "code",
   "execution_count": 104,
   "metadata": {},
   "outputs": [
    {
     "name": "stdout",
     "output_type": "stream",
     "text": [
      "Soluzione del sistema lineare: \n",
      "[[1.66666667]\n",
      " [3.        ]\n",
      " [0.93877551]\n",
      " [1.        ]]\n",
      "\n",
      " [[1.]\n",
      " [1.]\n",
      " [1.]\n",
      " [1.]]\n"
     ]
    }
   ],
   "source": [
    "P, L, U, = LUdec.lu(A)\n",
    "\n",
    "y = LUdec.solve_triangular(U, LUdec.solve_triangular(L, b, lower=True), lower=True)\n",
    "\n",
    "print(\"Soluzione del sistema lineare: \")\n",
    "print(y)\n",
    "print('\\n', x)"
   ]
  },
  {
   "cell_type": "markdown",
   "metadata": {},
   "source": [
    "#### Exercise 2.2\n",
    "si ripeta l'esercizio precedente sulla matrice di Hilbert, che si può generare con la funzione `A = scipy.linalg.hilbert(n)` per $n=5,\\dots,10$. In particolare:\n",
    "- Calcolare il numero di condizionamento di $A$ e rappresentarlo in un grafico al variare di $n$.\n",
    "- Considerare il vettore colonna $x=(1,\\dots,1)^T$, calcola il corrispondente termine noto $b$ per il sistema lineare $Ax=b$ e la relativa soluzione $\\tilde{x}$ usando la fattorizzazione di Cholesky come nel caso precedente.\n",
    "- Si rappresenti l'errore relativo al variare delle dimensioni della matrice."
   ]
  },
  {
   "cell_type": "code",
   "execution_count": 142,
   "metadata": {},
   "outputs": [
    {
     "name": "stdout",
     "output_type": "stream",
     "text": [
      "La 1 ° fattorizzazione LU è corretta.\n",
      "La 2 ° fattorizzazione LU non è corretta.\n",
      "La 3 ° fattorizzazione LU non è corretta.\n",
      "La 4 ° fattorizzazione LU non è corretta.\n",
      "La 5 ° fattorizzazione LU non è corretta.\n",
      "La 6 ° fattorizzazione LU non è corretta.\n"
     ]
    },
    {
     "data": {
      "image/png": "[encoded data removed]",
      "text/plain": [
       "<Figure size 432x288 with 1 Axes>"
      ]
     },
     "metadata": {
      "needs_background": "light"
     },
     "output_type": "display_data"
    },
    {
     "data": {
      "image/png": "[encoded data removed]",
      "text/plain": [
       "<Figure size 432x288 with 1 Axes>"
      ]
     },
     "metadata": {
      "needs_background": "light"
     },
     "output_type": "display_data"
    }
   ],
   "source": [
    "condition_numbers = []\n",
    "errors = []\n",
    "max = 10 + 1\n",
    "n_values = list(range(5, max))\n",
    "\n",
    "for n in range(5, max, 1):\n",
    "    # tutto quello fatto in 2.1 da per n = 5,...,10\n",
    "    x = np.ones((n, 1))\n",
    "    A = scipy.linalg.hilbert(n)\n",
    "    b = np.matmul(A, x)\n",
    "    P, L, U = LUdec.lu(A)\n",
    "    A_reconstructed = np.dot(P, np.dot(L, U))\n",
    "    if np.array_equal(A_reconstructed, A):\n",
    "        print(\"La\", n-4,\"° fattorizzazione LU è corretta.\")\n",
    "    else:\n",
    "        print(\"La\", n-4,\"° fattorizzazione LU non è corretta.\")\n",
    "    y = LUdec.solve_triangular(U, LUdec.solve_triangular(L, b, lower=True), lower=True)\n",
    "    ## Cond number\n",
    "    cond_number = np.linalg.cond(A)\n",
    "    condition_numbers.append(cond_number)\n",
    "    ## Cholesky\n",
    "    L = LUdec.cholesky(A, lower=True)\n",
    "    y = LUdec.solve(L, b)\n",
    "    x_tilde = LUdec.solve(L.T, y)\n",
    "    ## Calcola l'errore relativo\n",
    "    relative_error = np.linalg.norm(x - y) / np.linalg.norm(x)\n",
    "    errors.append(relative_error)\n",
    "\n",
    "\n",
    "import matplotlib.pyplot as plt\n",
    "\n",
    "plt.plot(n_values, condition_numbers, marker='o', linestyle='-')\n",
    "plt.xlabel('Dimensione n')\n",
    "plt.ylabel('Numero di Condizionamento')\n",
    "plt.title('Numero di Condizionamento di Matrici di Hilbert')\n",
    "plt.grid(True)\n",
    "plt.show()\n",
    "\n",
    "plt.plot(range(5, max), errors, marker='o')\n",
    "plt.xlabel('Dimension of Matrix (n)')\n",
    "plt.ylabel('Relative Error')\n",
    "plt.title('Relative Error vs Matrix Dimension')\n",
    "plt.grid()\n",
    "plt.show()"
   ]
  },
  {
   "cell_type": "code",
   "execution_count": 143,
   "metadata": {},
   "outputs": [
    {
     "name": "stdout",
     "output_type": "stream",
     "text": [
      "Help on function solve_triangular in module scipy.linalg.basic:\n",
      "\n",
      "solve_triangular(a, b, trans=0, lower=False, unit_diagonal=False, overwrite_b=False, debug=None, check_finite=True)\n",
      "    Solve the equation `a x = b` for `x`, assuming a is a triangular matrix.\n",
      "    \n",
      "    Parameters\n",
      "    ----------\n",
      "    a : (M, M) array_like\n",
      "        A triangular matrix\n",
      "    b : (M,) or (M, N) array_like\n",
      "        Right-hand side matrix in `a x = b`\n",
      "    lower : bool, optional\n",
      "        Use only data contained in the lower triangle of `a`.\n",
      "        Default is to use upper triangle.\n",
      "    trans : {0, 1, 2, 'N', 'T', 'C'}, optional\n",
      "        Type of system to solve:\n",
      "    \n",
      "        ========  =========\n",
      "        trans     system\n",
      "        ========  =========\n",
      "        0 or 'N'  a x  = b\n",
      "        1 or 'T'  a^T x = b\n",
      "        2 or 'C'  a^H x = b\n",
      "        ========  =========\n",
      "    unit_diagonal : bool, optional\n",
      "        If True, diagonal elements of `a` are assumed to be 1 and\n",
      "        will not be referenced.\n",
      "    overwrite_b : bool, optional\n",
      "        Allow overwriting data in `b` (may enhance performance)\n",
      "    check_finite : bool, optional\n",
      "        Whether to check that the input matrices contain only finite numbers.\n",
      "        Disabling may give a performance gain, but may result in problems\n",
      "        (crashes, non-termination) if the inputs do contain infinities or NaNs.\n",
      "    \n",
      "    Returns\n",
      "    -------\n",
      "    x : (M,) or (M, N) ndarray\n",
      "        Solution to the system `a x = b`.  Shape of return matches `b`.\n",
      "    \n",
      "    Raises\n",
      "    ------\n",
      "    LinAlgError\n",
      "        If `a` is singular\n",
      "    \n",
      "    Notes\n",
      "    -----\n",
      "    .. versionadded:: 0.9.0\n",
      "    \n",
      "    Examples\n",
      "    --------\n",
      "    Solve the lower triangular system a x = b, where::\n",
      "    \n",
      "             [3  0  0  0]       [4]\n",
      "        a =  [2  1  0  0]   b = [2]\n",
      "             [1  0  1  0]       [4]\n",
      "             [1  1  1  1]       [2]\n",
      "    \n",
      "    >>> from scipy.linalg import solve_triangular\n",
      "    >>> a = np.array([[3, 0, 0, 0], [2, 1, 0, 0], [1, 0, 1, 0], [1, 1, 1, 1]])\n",
      "    >>> b = np.array([4, 2, 4, 2])\n",
      "    >>> x = solve_triangular(a, b, lower=True)\n",
      "    >>> x\n",
      "    array([ 1.33333333, -0.66666667,  2.66666667, -1.33333333])\n",
      "    >>> a.dot(x)  # Check the result\n",
      "    array([ 4.,  2.,  4.,  2.])\n",
      "\n"
     ]
    }
   ],
   "source": [
    "help(solve_triangular)"
   ]
  }
 ],
 "metadata": {
  "kernelspec": {
   "display_name": "base",
   "language": "python",
   "name": "python3"
  },
  "language_info": {
   "codemirror_mode": {
    "name": "ipython",
    "version": 3
   },
   "file_extension": ".py",
   "mimetype": "text/x-python",
   "name": "python",
   "nbconvert_exporter": "python",
   "pygments_lexer": "ipython3",
   "version": "3.9.12"
  }
 },
 "nbformat": 4,
 "nbformat_minor": 2
}
